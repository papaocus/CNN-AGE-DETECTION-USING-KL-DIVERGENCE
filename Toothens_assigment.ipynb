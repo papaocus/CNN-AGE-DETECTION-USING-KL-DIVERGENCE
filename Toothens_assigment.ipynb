{
  "cells": [
    {
      "cell_type": "code",
      "execution_count": 1,
      "metadata": {
        "colab": {
          "base_uri": "https://localhost:8080/"
        },
        "id": "-diyyfiVrQi6",
        "outputId": "f6e2990d-56ee-4ca7-ffdc-34d494f7777f"
      },
      "outputs": [
        {
          "output_type": "stream",
          "name": "stdout",
          "text": [
            "Drive already mounted at /content/drive; to attempt to forcibly remount, call drive.mount(\"/content/drive\", force_remount=True).\n"
          ]
        }
      ],
      "source": [
        "from google.colab import drive\n",
        "drive.mount('/content/drive')"
      ]
    },
    {
      "cell_type": "code",
      "execution_count": 7,
      "metadata": {
        "id": "lARv5gzsErtv"
      },
      "outputs": [],
      "source": [
        "import os\n",
        "import numpy as np\n",
        "import cv2\n",
        "from sklearn.model_selection import train_test_split\n",
        "\n",
        "data_dir = '/content/drive/MyDrive/crop_part1'\n",
        "img_size = 64\n",
        "\n",
        "\n",
        "images = []\n",
        "labels = []\n",
        "\n",
        "for filename in os.listdir(data_dir):\n",
        "    age = int(filename.split('_')[0])\n",
        "\n",
        "    label = np.zeros(111)\n",
        "    label[age] = 1.0\n",
        "    label = np.exp(-(np.arange(111) - age)**2 / (2 * 9**2))\n",
        "    label /= np.sum(label) \n",
        "    img = cv2.imread(os.path.join(data_dir, filename))\n",
        "    img = cv2.cvtColor(img, cv2.COLOR_BGR2RGB)\n",
        "    img = cv2.resize(img, (img_size, img_size))\n",
        "    images.append(img)\n",
        "    labels.append(label)\n",
        "\n",
        "images = np.array(images, dtype='float32') / 255.0\n",
        "labels = np.array(labels, dtype='float32')\n",
        "\n",
        "\n",
        "x_train, x_test, y_train, y_test = train_test_split(images, labels, test_size=0.2, random_state=42)\n",
        "\n",
        "\n",
        "\n"
      ]
    },
    {
      "cell_type": "code",
      "execution_count": 8,
      "metadata": {
        "id": "oSJIsloRCcgN"
      },
      "outputs": [],
      "source": [
        "import tensorflow as tf\n",
        "from tensorflow.keras.layers import Conv2D, MaxPooling2D, Flatten, Dense, Dropout\n",
        "\n",
        "input_shape = (img_size, img_size, 3)\n",
        "\n",
        "\n",
        "model = tf.keras.models.Sequential([\n",
        "    Conv2D(32, (3,3), activation='relu', input_shape=input_shape),\n",
        "    MaxPooling2D(pool_size=(2,2)),\n",
        "    Conv2D(64, (3,3), activation='relu'),\n",
        "    MaxPooling2D(pool_size=(2,2)),\n",
        "    Flatten(),\n",
        "    Dense(128, activation='relu'),\n",
        "    Dropout(0.5),\n",
        "    Dense(64, activation='relu'),\n",
        "    Dropout(0.5),\n",
        "    Dense(100, activation='softmax') \n",
        "])\n",
        "\n",
        "\n",
        "\n"
      ]
    },
    {
      "cell_type": "code",
      "execution_count": 10,
      "metadata": {
        "colab": {
          "base_uri": "https://localhost:8080/"
        },
        "id": "SxBlnpop-kL4",
        "outputId": "e2fb618b-e3a3-4dd4-9aa3-b36aa28fe2bd"
      },
      "outputs": [
        {
          "output_type": "stream",
          "name": "stdout",
          "text": [
            "Epoch 1/10\n",
            "98/98 [==============================] - 7s 27ms/step - loss: 0.4144 - age_accuracy: 0.0837 - val_loss: 0.4347 - val_age_accuracy: 0.0432\n",
            "Epoch 2/10\n",
            "98/98 [==============================] - 2s 17ms/step - loss: 0.4029 - age_accuracy: 0.0895 - val_loss: 0.3973 - val_age_accuracy: 0.0607\n",
            "Epoch 3/10\n",
            "98/98 [==============================] - 1s 12ms/step - loss: 0.3931 - age_accuracy: 0.0895 - val_loss: 0.4069 - val_age_accuracy: 0.0557\n",
            "Epoch 4/10\n",
            "98/98 [==============================] - 1s 11ms/step - loss: 0.3769 - age_accuracy: 0.0905 - val_loss: 0.3925 - val_age_accuracy: 0.0564\n",
            "Epoch 5/10\n",
            "98/98 [==============================] - 1s 10ms/step - loss: 0.3671 - age_accuracy: 0.0902 - val_loss: 0.3872 - val_age_accuracy: 0.0519\n",
            "Epoch 6/10\n",
            "98/98 [==============================] - 1s 10ms/step - loss: 0.3642 - age_accuracy: 0.0959 - val_loss: 0.4398 - val_age_accuracy: 0.0883\n",
            "Epoch 7/10\n",
            "98/98 [==============================] - 1s 10ms/step - loss: 0.3721 - age_accuracy: 0.0873 - val_loss: 0.3948 - val_age_accuracy: 0.0501\n",
            "Epoch 8/10\n",
            "98/98 [==============================] - 1s 10ms/step - loss: 0.3484 - age_accuracy: 0.0989 - val_loss: 0.3990 - val_age_accuracy: 0.0589\n",
            "Epoch 9/10\n",
            "98/98 [==============================] - 1s 10ms/step - loss: 0.3484 - age_accuracy: 0.0929 - val_loss: 0.3937 - val_age_accuracy: 0.0514\n",
            "Epoch 10/10\n",
            "98/98 [==============================] - 1s 10ms/step - loss: 0.3436 - age_accuracy: 0.0957 - val_loss: 0.3899 - val_age_accuracy: 0.0721\n"
          ]
        }
      ],
      "source": [
        "\n",
        "def age_loss(y_true, y_pred):\n",
        "    return tf.keras.losses.kullback_leibler_divergence(y_true, y_pred)\n",
        "\n",
        "import tensorflow as tf\n",
        "\n",
        "def age_accuracy(y_true, y_pred):\n",
        "    mu_true = tf.reduce_sum(tf.range(100, dtype=tf.float32) * y_true, axis=1)\n",
        "    mu_pred = tf.reduce_sum(tf.range(100, dtype=tf.float32) * y_pred, axis=1)\n",
        "    acc = tf.reduce_mean(tf.cast(tf.equal(tf.round(mu_true), tf.round(mu_pred)), tf.float32))\n",
        "    return acc\n",
        "\n",
        "model.compile(optimizer='adam', loss=age_loss, metrics=[age_accuracy])\n",
        "\n",
        "\n",
        "history = model.fit(x_train, y_train, epochs=10, batch_size=64, validation_split=0.2)\n",
        "\n",
        "\n",
        "\n",
        "\n",
        "\n"
      ]
    },
    {
      "cell_type": "code",
      "execution_count": 11,
      "metadata": {
        "id": "hy1hiqfTSPIm",
        "colab": {
          "base_uri": "https://localhost:8080/"
        },
        "outputId": "5e593639-bd4f-40fd-a812-9b097120c801"
      },
      "outputs": [
        {
          "output_type": "stream",
          "name": "stdout",
          "text": [
            "62/62 [==============================] - 0s 3ms/step\n",
            "Age estimation error: 0.2800\n"
          ]
        }
      ],
      "source": [
        "y_pred = model.predict(x_test)\n",
        "mu = np.sum(np.arange(100) * y_test, axis=1)\n",
        "sigma2 = np.sum((np.arange(100) - mu.reshape(-1, 1))**2 * y_test, axis=1)\n",
        "n = np.sum(np.arange(100) * y_pred, axis=1)\n",
        "error = np.mean(1 - np.exp(- (n - mu)**2 / (2 * sigma2)))\n",
        "print(f\"Age estimation error: {error:.4f}\")\n"
      ]
    },
    {
      "cell_type": "code",
      "source": [
        "###Briefly describe how the  ϵ  error behaves in the limit cases\n",
        "\n",
        "###The ϵ error, also known as the training loss, is a measure of how well the model is able to fit the training data. \n",
        "###In the limit cases, the training loss can approach zero, which means the model perfectly fits the training data. However, \n",
        "##this does not necessarily mean that the model is able to generalize well to unseen data. On the other hand, if the training loss\n",
        "##is very high, the model is not able to fit the training data well and is likely to perform poorly on both the training and test data.\n",
        "\n",
        "\n",
        "##What can you say about the data sample?\n",
        "#I have used the dataset of cropped images from UTK face dataset which consist on Face images from 1 to 111\n",
        "\n",
        "##Further improvements?\n",
        "#Some possible improvements to this model include:\n",
        "\n",
        "##Increasing the size of the dataset by collecting more images and/or using data augmentation techniques.\n",
        "##Trying different architectures such as deeper or wider networks to capture more complex features.\n",
        "##Experimenting with different loss functions, such as mean squared error or mean absolute error.\n",
        "##Tuning the hyperparameters of the model, such as the learning rate, batch size, number of epochs, etc.\n",
        "##Investigating the use of transfer learning by fine-tuning a pre-trained model on a large dataset of faces.\n",
        "\n",
        "\n",
        "##Is your model learning?\n",
        "##Yes, I think the model is learning as the training loss is decreasing with each epoch.\n",
        "##The validation loss is also decreasing, which indicates that the model is not overfitting to the training data.\n",
        "\n"
      ],
      "metadata": {
        "id": "bJxaofMzUvxT"
      },
      "execution_count": null,
      "outputs": []
    }
  ],
  "metadata": {
    "accelerator": "GPU",
    "colab": {
      "provenance": []
    },
    "gpuClass": "standard",
    "kernelspec": {
      "display_name": "Python 3",
      "name": "python3"
    },
    "language_info": {
      "name": "python"
    }
  },
  "nbformat": 4,
  "nbformat_minor": 0
}